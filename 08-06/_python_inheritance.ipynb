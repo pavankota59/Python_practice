{
  "nbformat": 4,
  "nbformat_minor": 0,
  "metadata": {
    "colab": {
      "provenance": [],
      "authorship_tag": "ABX9TyMYgXrbV2kcSl3k14nw2EWA",
      "include_colab_link": true
    },
    "kernelspec": {
      "name": "python3",
      "display_name": "Python 3"
    },
    "language_info": {
      "name": "python"
    }
  },
  "cells": [
    {
      "cell_type": "markdown",
      "metadata": {
        "id": "view-in-github",
        "colab_type": "text"
      },
      "source": [
        "<a href=\"https://colab.research.google.com/github/Navyasri28/Python-practices/blob/main/08_06_Day_3_python_inheritance_and_exception_handling.ipynb\" target=\"_parent\"><img src=\"https://colab.research.google.com/assets/colab-badge.svg\" alt=\"Open In Colab\"/></a>"
      ]
    },
    {
      "cell_type": "markdown",
      "source": [
        "## **INHERITANCE**\n",
        "Inheritance allows us to define a class that inherits all the methods and properties from another class.\n",
        "\n",
        "Parent class is the class being inherited from, also called base class.\n",
        "\n",
        "Child class is the class that inherits from another class, also called derived class.\n",
        "\n"
      ],
      "metadata": {
        "id": "qevTfXWEQsxO"
      }
    },
    {
      "cell_type": "code",
      "source": [
        "class Animal(object):\n",
        "\n",
        "    def __init__(self, name, species):\n",
        "        self.name = name\n",
        "        self.species = species\n",
        "\n",
        "    def display_info(self):\n",
        "        print(f\"Name: {self.name}, Species: {self.species}\")\n",
        "\n",
        "# Derived class\n",
        "class Dog(Animal):\n",
        "\n",
        "    def __init__(self, name, breed):\n",
        "        # Calling the constructor of the base class\n",
        "        super().__init__(name, \"Dog\")\n",
        "        self.breed = breed\n",
        "\n",
        "    # Method to display dog-specific information\n",
        "    def display_info(self):\n",
        "        print(f\"Name: {self.name}, Species: {self.species}, Breed: {self.breed}\")\n",
        "\n",
        "animal = Animal(\"Generic Animal\", \"Unknown\")\n",
        "animal.display_info()\n",
        "\n",
        "dog = Dog(\"Buddy\", \"Golden Retriever\")\n",
        "dog.display_info()\n"
      ],
      "metadata": {
        "colab": {
          "base_uri": "https://localhost:8080/"
        },
        "id": "9vDgVqTGQ8Qa",
        "outputId": "b83c1c5e-3df9-4081-c6aa-9c5f6efb0fde"
      },
      "execution_count": 1,
      "outputs": [
        {
          "output_type": "stream",
          "name": "stdout",
          "text": [
            "Name: Generic Animal, Species: Unknown\n",
            "Name: Buddy, Species: Dog, Breed: Golden Retriever\n"
          ]
        }
      ]
    },
    {
      "cell_type": "markdown",
      "source": [
        "**Method Resolution Order** (MRO) is the order in which a programming language looks for methods in a hierarchy of classes. It determines the sequence in which base classes are searched when a method is called in a derived class."
      ],
      "metadata": {
        "id": "3NMNQiT2kGgT"
      }
    },
    {
      "cell_type": "code",
      "source": [
        "class A:\n",
        "    def display(self):\n",
        "        print(\"Display from A\")\n",
        "\n",
        "class B(A):\n",
        "    def display(self):\n",
        "        print(\"Display from B\")\n",
        "\n",
        "class C(B):\n",
        "    pass\n",
        "\n",
        "# Driver code\n",
        "c_instance = C()\n",
        "c_instance.display()\n",
        "print(C.mro())\n"
      ],
      "metadata": {
        "colab": {
          "base_uri": "https://localhost:8080/"
        },
        "id": "Y8-zA096kJIY",
        "outputId": "5bf14f1f-595f-426a-fcc5-854cec14652a"
      },
      "execution_count": 10,
      "outputs": [
        {
          "output_type": "stream",
          "name": "stdout",
          "text": [
            "Display from B\n",
            "[<class '__main__.C'>, <class '__main__.B'>, <class '__main__.A'>, <class 'object'>]\n"
          ]
        }
      ]
    },
    {
      "cell_type": "markdown",
      "source": [
        " **Single Inheritance**: A child class inherits from only one parent class."
      ],
      "metadata": {
        "id": "ND0vfyj2UWBQ"
      }
    },
    {
      "cell_type": "code",
      "source": [
        "class Animal:\n",
        "    def __init__(self, name):\n",
        "        self.name = name\n",
        "\n",
        "class Dog(Animal):\n",
        "    def bark(self):\n",
        "        print(f\"{self.name} is barking.\")\n",
        "\n",
        "# Driver code\n",
        "dog = Dog(\"Buddy\")\n",
        "dog.bark()\n"
      ],
      "metadata": {
        "colab": {
          "base_uri": "https://localhost:8080/"
        },
        "id": "SlcQY3f9Uej8",
        "outputId": "0a8e5f06-bd68-4989-dcb6-d8e3441dcf63"
      },
      "execution_count": 2,
      "outputs": [
        {
          "output_type": "stream",
          "name": "stdout",
          "text": [
            "Buddy is barking.\n"
          ]
        }
      ]
    },
    {
      "cell_type": "markdown",
      "source": [
        "**Multiple Inheritance**: A child class inherits from more than one parent class.\n",
        "\n"
      ],
      "metadata": {
        "id": "cLGOf2vGVIJZ"
      }
    },
    {
      "cell_type": "code",
      "source": [
        "class Camera:\n",
        "    def take_photo(self):\n",
        "        print(\"Photo taken.\")\n",
        "\n",
        "class Phone:\n",
        "    def make_call(self):\n",
        "        print(\"Calling...\")\n",
        "\n",
        "class Smartphone(Camera, Phone):\n",
        "    pass\n",
        "\n",
        "# Driver code\n",
        "smartphone = Smartphone()\n",
        "smartphone.take_photo()\n",
        "smartphone.make_call()\n"
      ],
      "metadata": {
        "colab": {
          "base_uri": "https://localhost:8080/"
        },
        "id": "UHPgC8axVM8V",
        "outputId": "0532f185-89bd-488c-f692-562baa2087e4"
      },
      "execution_count": 3,
      "outputs": [
        {
          "output_type": "stream",
          "name": "stdout",
          "text": [
            "Photo taken.\n",
            "Calling...\n"
          ]
        }
      ]
    },
    {
      "cell_type": "markdown",
      "source": [
        "\n",
        "**Multilevel Inheritance**: A child class inherits from a parent class, and that parent class is also a child of another class."
      ],
      "metadata": {
        "id": "Hz7yO-zoWnHE"
      }
    },
    {
      "cell_type": "code",
      "source": [
        "class Grandparent:\n",
        "    def say_hello(self):\n",
        "        print(\"Hello from Grandparent\")\n",
        "\n",
        "class Parent(Grandparent):\n",
        "    def say_hello(self):\n",
        "        print(\"Hello from Parent\")\n",
        "\n",
        "class Child(Parent):\n",
        "    def say_hello(self):\n",
        "        print(\"Hello from Child\")\n",
        "\n",
        "# Driver code\n",
        "child = Child()\n",
        "child.say_hello()\n"
      ],
      "metadata": {
        "colab": {
          "base_uri": "https://localhost:8080/"
        },
        "id": "7OBNYqfoWr3S",
        "outputId": "41c89ef9-cb5b-4ad3-c1c4-b5ebec8c4ff6"
      },
      "execution_count": 4,
      "outputs": [
        {
          "output_type": "stream",
          "name": "stdout",
          "text": [
            "Hello from Child\n"
          ]
        }
      ]
    },
    {
      "cell_type": "markdown",
      "source": [
        "**Hierarchical Inheritance**: One parent class has multiple child classes."
      ],
      "metadata": {
        "id": "Hpxe0XUrW2aq"
      }
    },
    {
      "cell_type": "code",
      "source": [
        "class Animal:\n",
        "    def __init__(self, name):\n",
        "        self.name = name\n",
        "\n",
        "class Dog(Animal):\n",
        "    def bark(self):\n",
        "        print(f\"{self.name} is barking.\")\n",
        "\n",
        "class Cat(Animal):\n",
        "    def meow(self):\n",
        "        print(f\"{self.name} is meowing.\")\n",
        "\n",
        "# Driver code\n",
        "dog = Dog(\"Buddy\")\n",
        "cat = Cat(\"Whiskers\")\n",
        "dog.bark()\n",
        "cat.meow()\n"
      ],
      "metadata": {
        "colab": {
          "base_uri": "https://localhost:8080/"
        },
        "id": "iwCKMRuXW9DM",
        "outputId": "0f9b5c67-71ce-4a06-b25b-47f8b82ac7f0"
      },
      "execution_count": 5,
      "outputs": [
        {
          "output_type": "stream",
          "name": "stdout",
          "text": [
            "Buddy is barking.\n",
            "Whiskers is meowing.\n"
          ]
        }
      ]
    },
    {
      "cell_type": "markdown",
      "source": [
        "**Hybrid Inheritanc**e: A combination of two or more types of inheritance."
      ],
      "metadata": {
        "id": "nL-SdYT4XDsD"
      }
    },
    {
      "cell_type": "code",
      "source": [
        "class Vehicle:\n",
        "    def start(self):\n",
        "        print(\"Vehicle started.\")\n",
        "\n",
        "class Car(Vehicle):\n",
        "    def drive(self):\n",
        "        print(\"Car is driving.\")\n",
        "\n",
        "class Boat(Vehicle):\n",
        "    def sail(self):\n",
        "        print(\"Boat is sailing.\")\n",
        "\n",
        "class AmphibiousVehicle(Car, Boat):\n",
        "    pass\n",
        "\n",
        "# Driver code\n",
        "amphibious = AmphibiousVehicle()\n",
        "amphibious.start()\n",
        "amphibious.drive()\n",
        "amphibious.sail()\n"
      ],
      "metadata": {
        "colab": {
          "base_uri": "https://localhost:8080/"
        },
        "id": "zN0Bvs8OXIC3",
        "outputId": "210c140d-7306-475d-ca8a-f8b120eb9b75"
      },
      "execution_count": 6,
      "outputs": [
        {
          "output_type": "stream",
          "name": "stdout",
          "text": [
            "Vehicle started.\n",
            "Car is driving.\n",
            "Boat is sailing.\n"
          ]
        }
      ]
    },
    {
      "cell_type": "markdown",
      "source": [
        "**Method overriding** is a feature in object-oriented programming where a subclass provides its own version of a method that is already defined in its parent class. This allows the subclass to change or extend the behavior of that method."
      ],
      "metadata": {
        "id": "EXRIgDaEZfa0"
      }
    },
    {
      "cell_type": "code",
      "source": [
        "class Parent:\n",
        "    def display(self):\n",
        "        print(\"We are displaying parent\")\n",
        "\n",
        "class Child(Parent):\n",
        "    def display(self):\n",
        "        print(\"We are displaying child\")\n",
        "\n",
        "# Driver code\n",
        "parent_instance = Parent()\n",
        "child_instance = Child()\n",
        "\n",
        "parent_instance.display()\n",
        "child_instance.display()\n"
      ],
      "metadata": {
        "colab": {
          "base_uri": "https://localhost:8080/"
        },
        "id": "v-LVreJsZg4g",
        "outputId": "779373a5-e26c-4c81-bd7c-20284b3cce50"
      },
      "execution_count": 8,
      "outputs": [
        {
          "output_type": "stream",
          "name": "stdout",
          "text": [
            "we are displaying parent\n",
            "we are displaying child\n"
          ]
        }
      ]
    },
    {
      "cell_type": "markdown",
      "source": [
        "The **super() **function is used to access methods from a parent class in a subclass. It lets you call and extend the functionality of inherited methods."
      ],
      "metadata": {
        "id": "SnG4zefkaQLM"
      }
    },
    {
      "cell_type": "markdown",
      "source": [
        "Syntax: super()\n",
        "Return:Returns a proxy object which represents the parent class."
      ],
      "metadata": {
        "id": "40WMi7mLai3j"
      }
    },
    {
      "cell_type": "code",
      "source": [
        "class Parent:\n",
        "    def display(self):\n",
        "        print(\"Display from Parent\")\n",
        "\n",
        "class Child(Parent):\n",
        "    def display(self):\n",
        "        super().display()\n",
        "        print(\"Display from Child\")\n",
        "\n",
        "# Driver code\n",
        "child_instance = Child()\n",
        "child_instance.display()\n",
        "\n",
        "\n"
      ],
      "metadata": {
        "colab": {
          "base_uri": "https://localhost:8080/"
        },
        "id": "peQyB1o_ad34",
        "outputId": "cf7c091e-3f5d-482d-f6d7-b65edf1c93d2"
      },
      "execution_count": 9,
      "outputs": [
        {
          "output_type": "stream",
          "name": "stdout",
          "text": [
            "Display from Parent\n",
            "Display from Child\n"
          ]
        }
      ]
    }
  ]
}
