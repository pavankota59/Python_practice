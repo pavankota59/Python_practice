{
  "nbformat": 4,
  "nbformat_minor": 0,
  "metadata": {
    "colab": {
      "provenance": [],
      "authorship_tag": "ABX9TyPzBhKbur33A0ULyxgc3f3p",
      "include_colab_link": true
    },
    "kernelspec": {
      "name": "python3",
      "display_name": "Python 3"
    },
    "language_info": {
      "name": "python"
    }
  },
  "cells": [
    {
      "cell_type": "markdown",
      "metadata": {
        "id": "view-in-github",
        "colab_type": "text"
      },
      "source": [
        "<a href=\"https://colab.research.google.com/github/pavankota59/Python_practice/blob/main/06_06_Pytho_basics_and_functions_.ipynb\" target=\"_parent\"><img src=\"https://colab.research.google.com/assets/colab-badge.svg\" alt=\"Open In Colab\"/></a>"
      ]
    },
    {
      "cell_type": "code",
      "execution_count": null,
      "metadata": {
        "colab": {
          "base_uri": "https://localhost:8080/"
        },
        "id": "iN9kIppY6Tbv",
        "outputId": "7c19ca7b-360a-4b19-c6d1-24e6b8ff3725"
      },
      "outputs": [
        {
          "output_type": "stream",
          "name": "stdout",
          "text": [
            "Cloning into 'pavan'...\n",
            "warning: You appear to have cloned an empty repository.\n"
          ]
        }
      ],
      "source": [
        "!git clone https://github.com/pavankota59/pavan"
      ]
    },
    {
      "cell_type": "code",
      "source": [
        "print(\"hello\")"
      ],
      "metadata": {
        "colab": {
          "base_uri": "https://localhost:8080/"
        },
        "id": "qiExy93rbZgy",
        "outputId": "d666e022-cc84-4033-ea5a-58d774646391"
      },
      "execution_count": null,
      "outputs": [
        {
          "output_type": "stream",
          "name": "stdout",
          "text": [
            "waste\n"
          ]
        }
      ]
    },
    {
      "cell_type": "code",
      "source": [
        "k = input(\"enter: \")\n",
        "print(\"output:\",k)"
      ],
      "metadata": {
        "colab": {
          "base_uri": "https://localhost:8080/"
        },
        "id": "YO6UX-SPdULl",
        "outputId": "dda2ee2e-95d7-45d2-b283-342fbdacd926"
      },
      "execution_count": null,
      "outputs": [
        {
          "output_type": "stream",
          "name": "stdout",
          "text": [
            "enter: hello\n",
            "output: hello\n"
          ]
        }
      ]
    },
    {
      "cell_type": "code",
      "source": [
        "print(\"hello\", \"world\", sep=' ')\n",
        "print(\"1\", \"2\", \"3\", \"4\", sep=' ')"
      ],
      "metadata": {
        "colab": {
          "base_uri": "https://localhost:8080/"
        },
        "id": "fBD-A3Xtd32T",
        "outputId": "168c1e0b-f470-49c0-8341-d5dda09afae9"
      },
      "execution_count": null,
      "outputs": [
        {
          "output_type": "stream",
          "name": "stdout",
          "text": [
            "hello world\n",
            "1 2 3 4\n"
          ]
        }
      ]
    },
    {
      "cell_type": "code",
      "source": [
        "print(\"hello\", end=' ')\n",
        "print(\"world\")\n",
        "\n",
        "print(\"hello\", end='\\n')\n",
        "print(\"world\")"
      ],
      "metadata": {
        "colab": {
          "base_uri": "https://localhost:8080/"
        },
        "id": "kaCCSChwfPRR",
        "outputId": "a737f3fa-2036-4d13-d539-52f10b0cfa03"
      },
      "execution_count": null,
      "outputs": [
        {
          "output_type": "stream",
          "name": "stdout",
          "text": [
            "hello world\n",
            "hello\n",
            "world\n"
          ]
        }
      ]
    },
    {
      "cell_type": "markdown",
      "source": [
        "data types"
      ],
      "metadata": {
        "id": "KswyuZWyvGGN"
      }
    },
    {
      "cell_type": "code",
      "source": [
        "str = \"hello\"\n",
        "int = \"595\"\n",
        "float = \"0.595\"\n",
        "complex = \"5+9j\"\n",
        "print(str, int, float, complex)"
      ],
      "metadata": {
        "colab": {
          "base_uri": "https://localhost:8080/"
        },
        "id": "sOZBAt7lgbIQ",
        "outputId": "9504c6db-cf2b-4ff5-adf4-b8c5718334c1"
      },
      "execution_count": null,
      "outputs": [
        {
          "output_type": "stream",
          "name": "stdout",
          "text": [
            "hello 595 0.595 5+9j\n"
          ]
        }
      ]
    },
    {
      "cell_type": "markdown",
      "source": [
        "expressions and operators"
      ],
      "metadata": {
        "id": "QwnHRlOKvMHU"
      }
    },
    {
      "cell_type": "code",
      "source": [
        "a = 9\n",
        "b = 5\n",
        "print(a+b)\n",
        "print(a-b)\n",
        "print(a*b)\n",
        "print(a/b)\n",
        "print(a//b)\n",
        "print(a%b)\n",
        "print(a**b)"
      ],
      "metadata": {
        "colab": {
          "base_uri": "https://localhost:8080/"
        },
        "id": "XGfGt1j6i76k",
        "outputId": "e00014d6-2cab-482c-ee88-e34316f68406"
      },
      "execution_count": null,
      "outputs": [
        {
          "output_type": "stream",
          "name": "stdout",
          "text": [
            "14\n",
            "4\n",
            "45\n",
            "1.8\n",
            "1\n",
            "4\n",
            "59049\n"
          ]
        }
      ]
    },
    {
      "cell_type": "markdown",
      "source": [
        "type casting"
      ],
      "metadata": {
        "id": "9ruKiQYpvfWp"
      }
    },
    {
      "cell_type": "code",
      "source": [
        "num_int = 10\n",
        "print(num_int)\n",
        "\n",
        "num_float = float(num_int)\n",
        "print(num_float)\n",
        "\n",
        "num_str = str(num_int)\n",
        "print(num_str)\n",
        "\n",
        "my_list = [1, 2, 3]\n",
        "print(my_list)\n",
        "\n",
        "my_tuple = tuple(my_list)\n",
        "print(my_tuple)\n",
        "\n",
        "my_set = set(my_list)\n",
        "print(my_set)"
      ],
      "metadata": {
        "colab": {
          "base_uri": "https://localhost:8080/"
        },
        "id": "koB3bLwtY5jt",
        "outputId": "9449e020-e5a8-439c-fc2d-76924590a5de"
      },
      "execution_count": null,
      "outputs": [
        {
          "output_type": "stream",
          "name": "stdout",
          "text": [
            "10\n",
            "10.0\n",
            "10\n",
            "[1, 2, 3]\n",
            "(1, 2, 3)\n",
            "{1, 2, 3}\n"
          ]
        }
      ]
    },
    {
      "cell_type": "markdown",
      "source": [
        "conditional statements"
      ],
      "metadata": {
        "id": "hUBGF_nmvyrg"
      }
    },
    {
      "cell_type": "code",
      "source": [
        "grade = 85\n",
        "\n",
        "if grade >= 90:\n",
        "  print(\"You got an A!\")\n",
        "elif grade >= 80:\n",
        "  print(\"You got a B!\")\n",
        "elif grade >= 70:\n",
        "  print(\"You got a C.\")\n",
        "else:\n",
        "  print(\"You need to improve.\")"
      ],
      "metadata": {
        "colab": {
          "base_uri": "https://localhost:8080/"
        },
        "id": "wWUUZ9zQrycr",
        "outputId": "1c23d351-5474-4911-f7ec-c7237b2412c5"
      },
      "execution_count": null,
      "outputs": [
        {
          "output_type": "stream",
          "name": "stdout",
          "text": [
            "You got a B!\n"
          ]
        }
      ]
    },
    {
      "cell_type": "markdown",
      "source": [
        "looping statements"
      ],
      "metadata": {
        "id": "IqhBs8fVySG2"
      }
    },
    {
      "cell_type": "code",
      "source": [
        "for i in range(1,16):\n",
        "  print(i)\n",
        "i=1\n",
        "while i<=10:\n",
        "  print(i)\n",
        "  i+=1"
      ],
      "metadata": {
        "colab": {
          "base_uri": "https://localhost:8080/"
        },
        "id": "_BEf5BSLu66u",
        "outputId": "8f136a6c-f133-4fe5-9298-2f0823afedea"
      },
      "execution_count": null,
      "outputs": [
        {
          "output_type": "stream",
          "name": "stdout",
          "text": [
            "1\n",
            "2\n",
            "3\n",
            "4\n",
            "5\n",
            "6\n",
            "7\n",
            "8\n",
            "9\n",
            "10\n",
            "11\n",
            "12\n",
            "13\n",
            "14\n",
            "15\n",
            "1\n",
            "2\n",
            "3\n",
            "4\n",
            "5\n",
            "6\n",
            "7\n",
            "8\n",
            "9\n",
            "10\n"
          ]
        }
      ]
    },
    {
      "cell_type": "markdown",
      "source": [
        "special functions"
      ],
      "metadata": {
        "id": "djD4Y4GjynBW"
      }
    },
    {
      "cell_type": "code",
      "source": [
        "a=[4,7,46,87,35,788,24,55]\n",
        "\n",
        "print(\"size:\", len(a))\n",
        "\n",
        "print(\"maximum value:\",max(a))\n",
        "\n",
        "print(\"minimum value:\",min(a))\n",
        "\n",
        "print(\"Summation:\",sum(a))\n",
        "\n",
        "print(\"sorted list:\",sorted(a))\n",
        "\n",
        "print(\"Elements:\", \" \".join(map(str, a)))\n",
        "\n",
        "for i in a:\n",
        "\n",
        "  print(i,end=\" \")\n",
        "\n",
        "print(\"Type:\", type(a))\n",
        "\n",
        "print(\"id of object a:\", id(a))"
      ],
      "metadata": {
        "colab": {
          "base_uri": "https://localhost:8080/"
        },
        "id": "oSAiy3WRyP8V",
        "outputId": "b1b5b7b8-8ed4-43c9-f91c-1fce3621bfa0"
      },
      "execution_count": null,
      "outputs": [
        {
          "output_type": "stream",
          "name": "stdout",
          "text": [
            "size: 8\n",
            "maximum value: 788\n",
            "minimum value: 4\n",
            "Summation: 1046\n",
            "sorted list: [4, 7, 24, 35, 46, 55, 87, 788]\n",
            "Elements: 4 7 46 87 35 788 24 55\n",
            "4 7 46 87 35 788 24 55 Type: <class 'list'>\n",
            "id of object a: 138901440661888\n"
          ]
        }
      ]
    },
    {
      "cell_type": "code",
      "source": [
        "letters = ['6', '8', '2', '7', '9', '7']\n",
        "\n",
        "list_length = len(letters)\n",
        "print(\"Length of the list:\", list_length)\n",
        "\n",
        "list_id = id(letters)\n",
        "print(\"Memory address of the list:\", list_id)\n",
        "\n",
        "list_type = type(letters)\n",
        "print(\"Data type of the list:\", list_type)\n",
        "\n",
        "number_range = range(6)\n",
        "\n",
        "print(\"Numbers in the range:\")\n",
        "for num in number_range:\n",
        "  print(num, end=\" \")"
      ],
      "metadata": {
        "colab": {
          "base_uri": "https://localhost:8080/"
        },
        "id": "HJw-a-Ny_TzZ",
        "outputId": "afe30297-bbf8-44fd-95de-43d5510b07a1"
      },
      "execution_count": null,
      "outputs": [
        {
          "output_type": "stream",
          "name": "stdout",
          "text": [
            "Length of the list: 6\n",
            "Memory address of the list: 139338699325632\n",
            "Data type of the list: <class 'list'>\n",
            "Numbers in the range:\n",
            "0 1 2 3 4 5 "
          ]
        }
      ]
    },
    {
      "cell_type": "code",
      "source": [
        "number = int(input(\"Enter a number: \"))\n",
        "\n",
        "if number % 2 == 0:\n",
        "  print(number, \"is even.\")\n",
        "else:\n",
        "  print(number, \"is odd.\")\n",
        "\n",
        "print(\"\\nSquares of number from 1 to 6:\")\n",
        "for i in range(1, 7):\n",
        "  square = i * i\n",
        "  print(i, \"squared =\", square)"
      ],
      "metadata": {
        "colab": {
          "base_uri": "https://localhost:8080/"
        },
        "id": "9-BefW-V53O3",
        "outputId": "eed43f8b-e860-496d-b298-b6917a1933a3"
      },
      "execution_count": null,
      "outputs": [
        {
          "output_type": "stream",
          "name": "stdout",
          "text": [
            "Enter a number: 5\n",
            "5 is odd.\n",
            "\n",
            "Squares of number from 1 to 6:\n",
            "1 squared = 1\n",
            "2 squared = 4\n",
            "3 squared = 9\n",
            "4 squared = 16\n",
            "5 squared = 25\n",
            "6 squared = 36\n"
          ]
        }
      ]
    },
    {
      "cell_type": "code",
      "source": [
        "numbers = [10, 5, 20, 1, 8, 15]\n",
        "\n",
        "search_number = 15\n",
        "\n",
        "found = False\n",
        "for i in range(len(numbers)):\n",
        "  if numbers[i] == search_number:\n",
        "    found = True\n",
        "    print(\"Found\", search_number, \"at index\", i)\n",
        "    break\n",
        "\n",
        "if not found:\n",
        "  print(search_number, \"not found in the list\")\n",
        "\n",
        "print(\"\\nEven numbers:\")\n",
        "for num in numbers:\n",
        "  if num % 2 != 0:\n",
        "    continue\n",
        "  print(num, end=\" \")"
      ],
      "metadata": {
        "id": "J-z_hqbQ7QyA",
        "colab": {
          "base_uri": "https://localhost:8080/"
        },
        "outputId": "ac0bea85-73ba-4025-d8d0-fd9cc3cd1f21"
      },
      "execution_count": 1,
      "outputs": [
        {
          "output_type": "stream",
          "name": "stdout",
          "text": [
            "Found 15 at index 5\n",
            "\n",
            "Even numbers:\n",
            "10 20 8 "
          ]
        }
      ]
    }
  ]
}