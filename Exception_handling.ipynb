{
  "nbformat": 4,
  "nbformat_minor": 0,
  "metadata": {
    "colab": {
      "provenance": [],
      "authorship_tag": "ABX9TyOfTwyMaUNHaB1hbM/o1RkL",
      "include_colab_link": true
    },
    "kernelspec": {
      "name": "python3",
      "display_name": "Python 3"
    },
    "language_info": {
      "name": "python"
    }
  },
  "cells": [
    {
      "cell_type": "markdown",
      "metadata": {
        "id": "view-in-github",
        "colab_type": "text"
      },
      "source": [
        "<a href=\"https://colab.research.google.com/github/Navyasri28/Python-practices/blob/main/Exception_handling.ipynb\" target=\"_parent\"><img src=\"https://colab.research.google.com/assets/colab-badge.svg\" alt=\"Open In Colab\"/></a>"
      ]
    },
    {
      "cell_type": "markdown",
      "source": [
        "## **EXCEPTION HANDLING**\n",
        "\n",
        "When an error occurs, or exception as we call it, Python will normally stop and generate an error message."
      ],
      "metadata": {
        "id": "WJ7dJanZpKBC"
      }
    },
    {
      "cell_type": "markdown",
      "source": [
        "# **Python try...except** :\n",
        " A try...except block in Python is used to handle exceptions (errors) that occur during the execution of a program. It allows you to write code that can catch and respond to errors gracefully, instead of crashing the program."
      ],
      "metadata": {
        "id": "gDMTTuEOptMz"
      }
    },
    {
      "cell_type": "code",
      "source": [
        "#syntax\n",
        "try:\n",
        "    risky_code()\n",
        "except SomeException:\n",
        "    handle_error()\n"
      ],
      "metadata": {
        "id": "NCga-d1KqLN8"
      },
      "execution_count": null,
      "outputs": []
    },
    {
      "cell_type": "code",
      "source": [
        "try:\n",
        "    result = 10 / 0\n",
        "except ZeroDivisionError:\n",
        "\n",
        "    print(\"Cannot divide by zero!\")\n"
      ],
      "metadata": {
        "colab": {
          "base_uri": "https://localhost:8080/"
        },
        "id": "kZnbusRPqPau",
        "outputId": "6feb9924-2603-42d3-b11b-8b126e6fc46c"
      },
      "execution_count": 3,
      "outputs": [
        {
          "output_type": "stream",
          "name": "stdout",
          "text": [
            "Cannot divide by zero!\n"
          ]
        }
      ]
    },
    {
      "cell_type": "code",
      "source": [
        "try:\n",
        "    # Trying to open a file that does not exist\n",
        "    with open('non_existent_file.txt', 'r') as file:\n",
        "        content = file.read()\n",
        "        print(content)\n",
        "except FileNotFoundError:\n",
        "    print(\"Error: The file was not found.\")\n"
      ],
      "metadata": {
        "colab": {
          "base_uri": "https://localhost:8080/"
        },
        "id": "W0ymAO3rrsQR",
        "outputId": "5098d076-ec35-4e52-c773-81a48a433ecc"
      },
      "execution_count": 4,
      "outputs": [
        {
          "output_type": "stream",
          "name": "stdout",
          "text": [
            "Error: The file was not found.\n"
          ]
        }
      ]
    },
    {
      "cell_type": "markdown",
      "source": [
        "# **Catching Specific Exceptions**\n",
        "For each try block, there can be one or more except blocks. Multiple except blocks allow you to handle different types of exceptions separately."
      ],
      "metadata": {
        "id": "22kG9Ue_sKmn"
      }
    },
    {
      "cell_type": "code",
      "source": [
        "try:\n",
        "    # Trying to convert a string to an integer\n",
        "    number = int(\"abc\")\n",
        "\n",
        "    # Accessing an invalid key in a dictionary\n",
        "    my_dict = {\"name\": \"Pinky\"}\n",
        "    print(my_dict[\"age\"])\n",
        "\n",
        "except ValueError:\n",
        "    print(\"Error: Cannot convert string to integer.\")\n",
        "\n",
        "except KeyError:\n",
        "    print(\"Error: Key not found in dictionary.\")\n"
      ],
      "metadata": {
        "colab": {
          "base_uri": "https://localhost:8080/"
        },
        "id": "ipP7MhwqsRkx",
        "outputId": "15ad1da2-ca5f-43f5-9a3a-15cacb3fe613"
      },
      "execution_count": 5,
      "outputs": [
        {
          "output_type": "stream",
          "name": "stdout",
          "text": [
            "Error: Cannot convert string to integer.\n"
          ]
        }
      ]
    },
    {
      "cell_type": "markdown",
      "source": [
        "# **Python try with else clause:**\n",
        "We might want to run a certain block of code if the code block inside try runs without any errors.\n",
        "\n",
        "For these cases, you can use the optional else keyword with the try statement."
      ],
      "metadata": {
        "id": "ODafKOojsyfy"
      }
    },
    {
      "cell_type": "code",
      "source": [
        "# program to read a file only if it exists\n",
        "\n",
        "try:\n",
        "    filename = input(\"Enter the filename: \")\n",
        "    with open(filename, 'r') as file:\n",
        "        content = file.read()\n",
        "except FileNotFoundError:\n",
        "    print(\"The file does not exist!\")\n",
        "else:\n",
        "    print(\"File content successfully read:\")\n",
        "    print(content)\n"
      ],
      "metadata": {
        "colab": {
          "base_uri": "https://localhost:8080/"
        },
        "id": "l6SOhdLAtK0s",
        "outputId": "b325e39b-8885-49f4-fec7-1d0a758e2921"
      },
      "execution_count": 7,
      "outputs": [
        {
          "output_type": "stream",
          "name": "stdout",
          "text": [
            "Enter the filename: r\n",
            "The file does not exist!\n"
          ]
        }
      ]
    },
    {
      "cell_type": "markdown",
      "source": [
        "#  try...finally:\n",
        "The finally block in Python always runs, whether an exception occurs or not. It's optional, and you can have only one finally block for each try block."
      ],
      "metadata": {
        "id": "FCo8Q06mtmMi"
      }
    },
    {
      "cell_type": "code",
      "source": [
        "try:\n",
        "    num1 = 12\n",
        "    num2 = 4\n",
        "    result = num1 / num2\n",
        "    print(\"Result:\", result)\n",
        "except ZeroDivisionError:\n",
        "    print(\"Error: Division by zero.\")\n",
        "finally:\n",
        "    print(\"This is the finally block.\")\n"
      ],
      "metadata": {
        "colab": {
          "base_uri": "https://localhost:8080/"
        },
        "id": "pfp73mVut3Th",
        "outputId": "6ffbc870-b72b-44ce-8f12-b66befa5bc26"
      },
      "execution_count": 9,
      "outputs": [
        {
          "output_type": "stream",
          "name": "stdout",
          "text": [
            "Result: 3.0\n",
            "This is the finally block.\n"
          ]
        }
      ]
    },
    {
      "cell_type": "markdown",
      "source": [
        "# **COMMON BUILT-IN EXCEPTION**"
      ],
      "metadata": {
        "id": "tlT1nOnDuzJY"
      }
    },
    {
      "cell_type": "markdown",
      "source": [
        "**SyntaxError:** Raised when there is a syntax error in the code."
      ],
      "metadata": {
        "id": "9YA3YjF0u6NO"
      }
    },
    {
      "cell_type": "code",
      "source": [
        "# Incorrect syntax - missing colon\n",
        "if True\n",
        "    print(\"Hello\")\n"
      ],
      "metadata": {
        "colab": {
          "base_uri": "https://localhost:8080/",
          "height": 106
        },
        "id": "4F1KJDGwu-y9",
        "outputId": "6bbf2ef5-11ed-48b0-a32d-421fad48f65d"
      },
      "execution_count": 10,
      "outputs": [
        {
          "output_type": "error",
          "ename": "SyntaxError",
          "evalue": "expected ':' (<ipython-input-10-17ca2db25ced>, line 2)",
          "traceback": [
            "\u001b[0;36m  File \u001b[0;32m\"<ipython-input-10-17ca2db25ced>\"\u001b[0;36m, line \u001b[0;32m2\u001b[0m\n\u001b[0;31m    if True\u001b[0m\n\u001b[0m           ^\u001b[0m\n\u001b[0;31mSyntaxError\u001b[0m\u001b[0;31m:\u001b[0m expected ':'\n"
          ]
        }
      ]
    },
    {
      "cell_type": "markdown",
      "source": [
        "**IndentationError:** Raised when there is incorrect indentation in the code."
      ],
      "metadata": {
        "id": "oydFaVbAvClx"
      }
    },
    {
      "cell_type": "code",
      "source": [
        "# Incorrect indentation\n",
        "def my_function():\n",
        "print(\"Indented incorrectly\")\n"
      ],
      "metadata": {
        "colab": {
          "base_uri": "https://localhost:8080/",
          "height": 106
        },
        "id": "X9ujz7f8vIff",
        "outputId": "1d91e4de-ef10-498b-9456-f241079abad5"
      },
      "execution_count": 11,
      "outputs": [
        {
          "output_type": "error",
          "ename": "IndentationError",
          "evalue": "expected an indented block after function definition on line 2 (<ipython-input-11-8c582c319fbe>, line 3)",
          "traceback": [
            "\u001b[0;36m  File \u001b[0;32m\"<ipython-input-11-8c582c319fbe>\"\u001b[0;36m, line \u001b[0;32m3\u001b[0m\n\u001b[0;31m    print(\"Indented incorrectly\")\u001b[0m\n\u001b[0m    ^\u001b[0m\n\u001b[0;31mIndentationError\u001b[0m\u001b[0;31m:\u001b[0m expected an indented block after function definition on line 2\n"
          ]
        }
      ]
    },
    {
      "cell_type": "markdown",
      "source": [
        "**NameError:** Raised when a variable or function name is not found in the local or global scope."
      ],
      "metadata": {
        "id": "Zy9VVmQivM9j"
      }
    },
    {
      "cell_type": "code",
      "source": [
        "# Variable name not defined\n",
        "print(undefined_variable)\n"
      ],
      "metadata": {
        "id": "A_3ZTgmMvRsK"
      },
      "execution_count": null,
      "outputs": []
    },
    {
      "cell_type": "markdown",
      "source": [
        "**TypeError:** Raised when an operation or function is applied to an object of inappropriate type."
      ],
      "metadata": {
        "id": "IY1GWeAVvVSO"
      }
    },
    {
      "cell_type": "code",
      "source": [
        "# Incorrect type\n",
        "result = 10 + \"5\"\n"
      ],
      "metadata": {
        "id": "Bivp4ROTvZPS"
      },
      "execution_count": null,
      "outputs": []
    },
    {
      "cell_type": "markdown",
      "source": [
        "**ValueError:** Raised when a function receives an argument of correct type but incorrect value."
      ],
      "metadata": {
        "id": "8WHWfLLQven9"
      }
    },
    {
      "cell_type": "code",
      "source": [
        "# Incorrect value\n",
        "num = int(\"abc\")\n"
      ],
      "metadata": {
        "id": "BMS-7kvbvg8J"
      },
      "execution_count": null,
      "outputs": []
    },
    {
      "cell_type": "markdown",
      "source": [
        "**ZeroDivisionError:** Raised when division or modulo by zero is attempted."
      ],
      "metadata": {
        "id": "MQPuiclKvjWc"
      }
    },
    {
      "cell_type": "code",
      "source": [
        "# Division by zero\n",
        "result = 10 / 0\n"
      ],
      "metadata": {
        "id": "OtdBT64RvoIB"
      },
      "execution_count": null,
      "outputs": []
    },
    {
      "cell_type": "markdown",
      "source": [
        "**FileNotFoundError:** Raised when a file or directory is requested but cannot be found."
      ],
      "metadata": {
        "id": "pV1C0BY4vrU0"
      }
    },
    {
      "cell_type": "code",
      "source": [
        "# Trying to open a non-existent file\n",
        "with open(\"non_existent_file.txt\", \"r\") as file:\n",
        "    content = file.read()\n"
      ],
      "metadata": {
        "id": "1IEgAaPfvtUo"
      },
      "execution_count": null,
      "outputs": []
    },
    {
      "cell_type": "markdown",
      "source": [
        "**KeyError:** Raised when a dictionary key is not found."
      ],
      "metadata": {
        "id": "k_IMaRMRvy10"
      }
    },
    {
      "cell_type": "code",
      "source": [
        "# Key not found in dictionary\n",
        "my_dict = {\"name\": \"Alice\"}\n",
        "print(my_dict[\"age\"])\n"
      ],
      "metadata": {
        "id": "Q0XNNlgyv0go"
      },
      "execution_count": null,
      "outputs": []
    },
    {
      "cell_type": "markdown",
      "source": [
        "**IndexError:** Raised when an index is out of range for a sequence (e.g., list, tuple)."
      ],
      "metadata": {
        "id": "rKXWAz2Fv2-U"
      }
    },
    {
      "cell_type": "code",
      "source": [
        "# Index out of range\n",
        "my_list = [1, 2, 3]\n",
        "print(my_list[5])\n"
      ],
      "metadata": {
        "id": "B0kw1eObv77e"
      },
      "execution_count": null,
      "outputs": []
    },
    {
      "cell_type": "markdown",
      "source": [
        "**Custom Exceptions:**\n",
        "we can define custom exceptions in Python by creating a new class derived from the built-in Exception class."
      ],
      "metadata": {
        "id": "2DMVH3YTwCgH"
      }
    },
    {
      "cell_type": "code",
      "source": [
        "# Define a custom exception\n",
        "class CustomError(Exception):\n",
        "    def __init__(self, message):\n",
        "        self.message = message\n",
        "\n",
        "try:\n",
        "    value = int(input(\"Enter a positive number: \"))\n",
        "    if value <= 0:\n",
        "        raise CustomError(\"This is not a positive number!\")\n",
        "except CustomError as e:\n",
        "    print(e.message)\n"
      ],
      "metadata": {
        "colab": {
          "base_uri": "https://localhost:8080/"
        },
        "id": "s7TzpFpgwd7M",
        "outputId": "d3848f86-cf80-4c76-f1e3-20478ba071ba"
      },
      "execution_count": 12,
      "outputs": [
        {
          "name": "stdout",
          "output_type": "stream",
          "text": [
            "Enter a positive number: 23\n"
          ]
        }
      ]
    },
    {
      "cell_type": "markdown",
      "source": [
        "Exceptions can be raised using the raise statement. When an exception is raised, Python stops the normal execution of the program and jumps to the nearest exception handler (except block)."
      ],
      "metadata": {
        "id": "bLpKWqPBxGj1"
      }
    },
    {
      "cell_type": "code",
      "source": [
        "def withdraw_money(balance, amount):\n",
        "    if amount > balance:\n",
        "        raise ValueError(\"Insufficient funds for withdrawal\")\n",
        "    return balance - amount\n",
        "\n",
        "try:\n",
        "    account_balance = 1000\n",
        "    withdrawal_amount = 1500\n",
        "    new_balance = withdraw_money(account_balance, withdrawal_amount)\n",
        "    print(\"Withdrawal successful, new balance is:\", new_balance)\n",
        "except ValueError as e:\n",
        "    print(\"Error:\", e)\n"
      ],
      "metadata": {
        "colab": {
          "base_uri": "https://localhost:8080/"
        },
        "id": "of054Wfsxj7S",
        "outputId": "094f489c-eb9f-47c2-a373-6baa4d1c2c17"
      },
      "execution_count": 13,
      "outputs": [
        {
          "output_type": "stream",
          "name": "stdout",
          "text": [
            "Error: Insufficient funds for withdrawal\n"
          ]
        }
      ]
    },
    {
      "cell_type": "markdown",
      "source": [
        "**Practical Examples of Exception Handling in Python:**"
      ],
      "metadata": {
        "id": "8ginQc9myERU"
      }
    },
    {
      "cell_type": "code",
      "source": [
        "#handling invalid user input\n",
        "while True:\n",
        "   try:\n",
        "      number = int(input(\"Please enter a number: \"))\n",
        "   except ValueError:\n",
        "      print(\"You did not enter a valid number!\")\n",
        "      continue\n",
        "   else:\n",
        "      print(f\"The square of your number is {number**2}\")\n",
        "      break"
      ],
      "metadata": {
        "colab": {
          "base_uri": "https://localhost:8080/"
        },
        "id": "pbuT6LsnyHm3",
        "outputId": "32d30fbe-80b0-4c7d-8c48-f42acf18d612"
      },
      "execution_count": 14,
      "outputs": [
        {
          "output_type": "stream",
          "name": "stdout",
          "text": [
            "Please enter a number: 4\n",
            "The square of your number is 16\n"
          ]
        }
      ]
    },
    {
      "cell_type": "code",
      "source": [
        "#handling value errors\n",
        "def convert_to_int(value):\n",
        "    try:\n",
        "        result = int(value)\n",
        "    except ValueError:\n",
        "        print(\"Error: Invalid input, must be an integer.\")\n",
        "    else:\n",
        "        print(\"Converted value is:\", result)\n",
        "    finally:\n",
        "        print(\"Conversion operation completed.\")\n",
        "\n",
        "# Test the function\n",
        "convert_to_int(\"abc\")\n",
        "convert_to_int(\"123\")\n"
      ],
      "metadata": {
        "colab": {
          "base_uri": "https://localhost:8080/"
        },
        "id": "ExnBr9ywy6q2",
        "outputId": "c40b46be-10f6-4178-c442-5b0638241419"
      },
      "execution_count": 15,
      "outputs": [
        {
          "output_type": "stream",
          "name": "stdout",
          "text": [
            "Error: Invalid input, must be an integer.\n",
            "Conversion operation completed.\n",
            "Converted value is: 123\n",
            "Conversion operation completed.\n"
          ]
        }
      ]
    }
  ]
}
