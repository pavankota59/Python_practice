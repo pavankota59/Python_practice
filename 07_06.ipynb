{
  "nbformat": 4,
  "nbformat_minor": 0,
  "metadata": {
    "colab": {
      "provenance": [],
      "name": "07-06.ipynb",
      "authorship_tag": "ABX9TyOZ4FP9QLU8b8VvVv30Bdrv",
      "include_colab_link": true
    },
    "kernelspec": {
      "name": "python3",
      "display_name": "Python 3"
    },
    "language_info": {
      "name": "python"
    }
  },
  "cells": [
    {
      "cell_type": "markdown",
      "metadata": {
        "id": "view-in-github",
        "colab_type": "text"
      },
      "source": [
        "<a href=\"https://colab.research.google.com/github/navyagona/python-practice/blob/main/07_06.ipynb\" target=\"_parent\"><img src=\"https://colab.research.google.com/assets/colab-badge.svg\" alt=\"Open In Colab\"/></a>"
      ]
    },
    {
      "cell_type": "code",
      "execution_count": null,
      "metadata": {
        "colab": {
          "base_uri": "https://localhost:8080/"
        },
        "id": "QnVw3JEqEVsJ",
        "outputId": "c73d6582-1a0a-4488-9812-d3e932bbcd7f"
      },
      "outputs": [
        {
          "output_type": "stream",
          "name": "stdout",
          "text": [
            "Cloning into 'python-practice'...\n",
            "remote: Enumerating objects: 9, done.\u001b[K\n",
            "remote: Counting objects: 100% (9/9), done.\u001b[K\n",
            "remote: Compressing objects: 100% (7/7), done.\u001b[K\n",
            "remote: Total 9 (delta 1), reused 0 (delta 0), pack-reused 0\u001b[K\n",
            "Receiving objects: 100% (9/9), done.\n",
            "Resolving deltas: 100% (1/1), done.\n"
          ]
        }
      ],
      "source": [
        "!git clone https://github.com/navyagona/python-practice\n"
      ]
    },
    {
      "cell_type": "markdown",
      "source": [
        "*OOPs:* OOPS stands for Object-Oriented Programming System. It's a programming approach based on the concept of \"objects\", which can contain data and code\n",
        "class and objects:\n",
        "A class is like a blueprint that defines what an object should be and do. It describes the properties and behaviors that the objects created from the class will have."
      ],
      "metadata": {
        "id": "R_340WwPXNsI"
      }
    },
    {
      "cell_type": "code",
      "source": [
        "class Person:\n",
        "    def __init__(self, name, age):\n",
        "        self.name = name\n",
        "        self.age = age\n",
        "\n",
        "person1 = Person(\"Teja\", 18)\n",
        "print(person1.name)\n",
        "print(person1.age)\n"
      ],
      "metadata": {
        "id": "5rynWQ6AbfNk",
        "outputId": "65eae942-a8ff-4a41-ed00-66e5a97bfa92",
        "colab": {
          "base_uri": "https://localhost:8080/"
        }
      },
      "execution_count": 2,
      "outputs": [
        {
          "output_type": "stream",
          "name": "stdout",
          "text": [
            "Teja\n",
            "18\n"
          ]
        }
      ]
    },
    {
      "cell_type": "markdown",
      "source": [
        "Instance variables:these are like personal characteristics for each object created from a class. They store data unique to each object.\n",
        "here in the code\n",
        "person1.name and person1.age refer to Navya and her age, while person2.name and person2.age refer to Teja and his age. Each object has its own set of instance variables."
      ],
      "metadata": {
        "id": "kyk1hAYucH0t"
      }
    },
    {
      "cell_type": "code",
      "source": [
        "class Person:\n",
        "    def __init__(self, name, age):\n",
        "        self.name = name\n",
        "        self.age = age\n",
        "\n",
        "person1 = Person(\"Navya\", 18)\n",
        "person2 = Person(\"TEJA\", 19)\n",
        "\n",
        "print(person1.name)\n",
        "print(person1.age)\n",
        "\n",
        "print(person2.name)\n",
        "print(person2.age)\n"
      ],
      "metadata": {
        "id": "H5G2Mya3cbaz",
        "outputId": "466f24a3-35fa-4aac-8a3d-36ebed38f5b0",
        "colab": {
          "base_uri": "https://localhost:8080/"
        }
      },
      "execution_count": 4,
      "outputs": [
        {
          "output_type": "stream",
          "name": "stdout",
          "text": [
            "Navya\n",
            "18\n",
            "TEJA\n",
            "19\n"
          ]
        }
      ]
    },
    {
      "cell_type": "markdown",
      "source": [
        "Class variables:these are shared by all objects of a class. They are defined within the class but outside any instance methods. All instances of the class share the same value for class variables."
      ],
      "metadata": {
        "id": "TrBSn5BTc-_k"
      }
    },
    {
      "cell_type": "code",
      "source": [
        "class MyClass:\n",
        "    class_variable = \"Hello, world!\"\n",
        "\n",
        "print(MyClass.class_variable)\n"
      ],
      "metadata": {
        "id": "MFFzwAFBdTMP",
        "outputId": "6064697f-05d4-4f51-b32a-dd4fddba2584",
        "colab": {
          "base_uri": "https://localhost:8080/"
        }
      },
      "execution_count": 5,
      "outputs": [
        {
          "output_type": "stream",
          "name": "stdout",
          "text": [
            "Hello, world!\n"
          ]
        }
      ]
    },
    {
      "cell_type": "markdown",
      "source": [
        "METHODS IN CLASS:\n",
        "1.Normal method:the regular methods within a class that take the self parameter as the first argument. They can access and modify instance variables of the class."
      ],
      "metadata": {
        "id": "dsxMZFPOdsoC"
      }
    },
    {
      "cell_type": "code",
      "source": [
        "class Car:\n",
        "    def start(self):\n",
        "        return \"The car has started.\"\n",
        "\n",
        "my_car = Car()\n",
        "print(my_car.start())\n"
      ],
      "metadata": {
        "id": "lYVODuJSekOc",
        "outputId": "de1ad3fd-3180-4fac-c677-e1728aa01251",
        "colab": {
          "base_uri": "https://localhost:8080/"
        }
      },
      "execution_count": 6,
      "outputs": [
        {
          "output_type": "stream",
          "name": "stdout",
          "text": [
            "The car has started.\n"
          ]
        }
      ]
    },
    {
      "cell_type": "markdown",
      "source": [
        "2.Class methods:these are bounded to the class itself rather than instances. They take a cls parameter as the first argument and can access and modify class variables."
      ],
      "metadata": {
        "id": "XwPcemtgetlj"
      }
    },
    {
      "cell_type": "code",
      "source": [
        "class MyClass:\n",
        "    @classmethod\n",
        "    def wish(cls, name):\n",
        "        return f\"Hello, {name}!\"\n",
        "\n",
        "message = MyClass.wish(\"Divya\")\n",
        "print(message)\n"
      ],
      "metadata": {
        "id": "Orcat-iCe3kD",
        "outputId": "06bdc181-2008-439b-c756-52ae2cfae081",
        "colab": {
          "base_uri": "https://localhost:8080/"
        }
      },
      "execution_count": 7,
      "outputs": [
        {
          "output_type": "stream",
          "name": "stdout",
          "text": [
            "Hello, Divya!\n"
          ]
        }
      ]
    },
    {
      "cell_type": "markdown",
      "source": [
        "Static method: these are not associated with any specific instance or the class itself. They are like regular functions defined within the class and don't take any special parameters like self or cls."
      ],
      "metadata": {
        "id": "SXeS1k79fLS3"
      }
    },
    {
      "cell_type": "code",
      "source": [
        "class Converter:\n",
        "    @staticmethod\n",
        "    def feet_to_meters(feet):\n",
        "        return feet * 0.3048\n",
        "\n",
        "    @staticmethod\n",
        "    def meters_to_feet(meters):\n",
        "        return meters / 0.3048\n",
        "\n",
        "print(Converter.feet_to_meters(5))\n",
        "print(Converter.meters_to_feet(1.524))\n"
      ],
      "metadata": {
        "id": "5poI6fMpfUwZ",
        "outputId": "3d5111a0-bd6b-44ed-aa1a-34c75c6ea8c4",
        "colab": {
          "base_uri": "https://localhost:8080/"
        }
      },
      "execution_count": 8,
      "outputs": [
        {
          "output_type": "stream",
          "name": "stdout",
          "text": [
            "1.524\n",
            "5.0\n"
          ]
        }
      ]
    },
    {
      "cell_type": "markdown",
      "source": [
        "DATA ENCAPSULATION:Data encapsulation is like putting your data in a safe, where only certain methods can access and modify it. This ensures that the data is protected and not directly exposed to the outside world."
      ],
      "metadata": {
        "id": "YL-L8xdTfz3J"
      }
    },
    {
      "cell_type": "code",
      "source": [
        "class Student:\n",
        "    def __init__(self, name):\n",
        "        self.__name = name\n",
        "\n",
        "    def get_name(self):\n",
        "        return self.__name\n",
        "\n",
        "    def set_name(self, name):\n",
        "        self.__name = name\n",
        "\n",
        "student1 = Student(\"Navya\")\n",
        "\n",
        "print(\"Student's name:\", student1.get_name())\n",
        "\n",
        "student1.set_name(\"TEJA\")\n",
        "\n",
        "print(\"Updated student's name:\", student1.get_name())\n"
      ],
      "metadata": {
        "id": "r5sshybWgPxn",
        "outputId": "00a2f2ca-a3d6-44a9-aa32-3d7748717610",
        "colab": {
          "base_uri": "https://localhost:8080/"
        }
      },
      "execution_count": 9,
      "outputs": [
        {
          "output_type": "stream",
          "name": "stdout",
          "text": [
            "Student's name: Navya\n",
            "Updated student's name: TEJA\n"
          ]
        }
      ]
    },
    {
      "cell_type": "markdown",
      "source": [
        "DATA ABSTRACTION:In simple words we can say that data abstraction allows us to focus on what an object does rather than how it achieves it."
      ],
      "metadata": {
        "id": "eKhG6Utnhe_E"
      }
    },
    {
      "cell_type": "code",
      "source": [
        "class TV:\n",
        "    def __init__(self):\n",
        "        self.__is_on = False\n",
        "\n",
        "    def turn_on(self):\n",
        "        self.__is_on = True\n",
        "\n",
        "    def turn_off(self):\n",
        "        self.__is_on = False\n",
        "\n",
        "    def is_on(self):\n",
        "        return self.__is_on\n",
        "\n",
        "my_tv = TV()\n",
        "my_tv.turn_on()\n",
        "\n",
        "if my_tv.is_on():\n",
        "    print(\"The TV is on\")\n",
        "else:\n",
        "    print(\"The TV is off\")\n"
      ],
      "metadata": {
        "id": "iZjiTqcoifkS",
        "outputId": "2558e48b-08de-40b3-9f98-12f09273e587",
        "colab": {
          "base_uri": "https://localhost:8080/"
        }
      },
      "execution_count": 10,
      "outputs": [
        {
          "output_type": "stream",
          "name": "stdout",
          "text": [
            "The TV is on\n"
          ]
        }
      ]
    },
    {
      "cell_type": "markdown",
      "source": [
        "DATA HIDING:\n",
        "data hiding means keeping some information or variables inside a class so that they can't be directly seen or changed from outside the class"
      ],
      "metadata": {
        "id": "YK0pu1Okj6Da"
      }
    },
    {
      "cell_type": "code",
      "source": [
        "class Calculator:\n",
        "    def __init__(self):\n",
        "        self.__result = 0\n",
        "\n",
        "    def add(self, num1, num2):\n",
        "        self.__result = num1 + num2\n",
        "        print(\"Result:\", self.__result)\n",
        "\n",
        "    def subtract(self, num1, num2):\n",
        "        self.__result = num1 - num2\n",
        "        print(\"Result:\", self.__result)\n",
        "\n",
        "    def get_result(self):\n",
        "        return self.__result\n",
        "\n",
        "my_calculator = Calculator()\n",
        "my_calculator.add(5, 3)\n",
        "my_calculator.subtract(8, 2)\n",
        "print(\"Final Result:\", my_calculator.get_result())\n"
      ],
      "metadata": {
        "id": "8rHVVC53j9it",
        "outputId": "e64a8488-c4ad-4292-b7ef-e283056d03bd",
        "colab": {
          "base_uri": "https://localhost:8080/"
        }
      },
      "execution_count": 11,
      "outputs": [
        {
          "output_type": "stream",
          "name": "stdout",
          "text": [
            "Result: 8\n",
            "Result: 6\n",
            "Final Result: 6\n"
          ]
        }
      ]
    }
  ]
}